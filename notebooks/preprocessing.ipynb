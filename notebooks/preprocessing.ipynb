{
  "cells": [
    {
      "cell_type": "markdown",
      "metadata": {
        "id": "view-in-github",
        "colab_type": "text"
      },
      "source": [
        "<a href=\"https://colab.research.google.com/github/haladaher2024/ML_project/blob/main/notebooks/preprocessing.ipynb\" target=\"_parent\"><img src=\"https://colab.research.google.com/assets/colab-badge.svg\" alt=\"Open In Colab\"/></a>"
      ]
    },
    {
      "cell_type": "code",
      "source": [
        "!git clone https://github.com/haladaher2024/ML_project.git\n"
      ],
      "metadata": {
        "colab": {
          "base_uri": "https://localhost:8080/"
        },
        "id": "ekfHiRO08ZIb",
        "outputId": "ca89ea12-0c44-4a7a-c368-1eadbf60f2d7"
      },
      "execution_count": 6,
      "outputs": [
        {
          "output_type": "stream",
          "name": "stdout",
          "text": [
            "Cloning into 'ML_project'...\n",
            "remote: Enumerating objects: 1771, done.\u001b[K\n",
            "remote: Counting objects: 100% (1771/1771), done.\u001b[K\n",
            "remote: Compressing objects: 100% (930/930), done.\u001b[K\n",
            "remote: Total 1771 (delta 3), reused 1758 (delta 0), pack-reused 0 (from 0)\u001b[K\n",
            "Receiving objects: 100% (1771/1771), 3.06 MiB | 28.24 MiB/s, done.\n",
            "Resolving deltas: 100% (3/3), done.\n"
          ]
        }
      ]
    },
    {
      "cell_type": "code",
      "source": [
        "from google.colab import drive\n",
        "drive.mount('/content/drive')\n"
      ],
      "metadata": {
        "colab": {
          "base_uri": "https://localhost:8080/"
        },
        "id": "4GOXv-u-83qZ",
        "outputId": "e4a7b80e-fbd7-4620-cf96-23e6c2792cf9"
      },
      "execution_count": null,
      "outputs": [
        {
          "output_type": "stream",
          "name": "stdout",
          "text": [
            "Mounted at /content/drive\n"
          ]
        }
      ]
    },
    {
      "cell_type": "markdown",
      "source": [
        "## Handling missing labels"
      ],
      "metadata": {
        "id": "_uo4FOk0Mmof"
      }
    },
    {
      "cell_type": "code",
      "source": [
        "import os\n",
        "from collections import Counter\n",
        "\n",
        "# Define paths\n",
        "image_folder = '/content/ML_project/data/images'\n",
        "label_folder = '/content/ML_project/data/labels'\n",
        "\n",
        "# Step 1: List files\n",
        "image_files = sorted(os.listdir(image_folder))\n",
        "label_files = sorted(os.listdir(label_folder))\n",
        "\n",
        "# Step 2: Get base filenames (without .jpg/.txt)\n",
        "image_basenames = {os.path.splitext(f)[0] for f in image_files}\n",
        "label_basenames = {os.path.splitext(f)[0] for f in label_files}\n",
        "\n",
        "# Step 3: Identify unmatched images\n",
        "missing_labels = image_basenames - label_basenames\n",
        "missing_count = len(missing_labels)\n",
        "total_images = len(image_basenames)\n",
        "missing_percentage = (missing_count / total_images) * 100\n",
        "\n",
        "\n",
        "print(f\"Total images: {total_images}\")\n",
        "print(f\"Missing labels: {missing_count}\")\n",
        "print(f\"Missing %: {missing_percentage:.2f}%\")\n",
        "\n",
        "# Step 4: Delete unmatched images if < 5%\n",
        "if missing_percentage < 5:\n",
        "    print(\"Remove unmatched images\")\n",
        "    for name in missing_labels:\n",
        "        img_path = os.path.join(image_folder, name + \".jpg\")\n",
        "        if os.path.exists(img_path):\n",
        "            os.remove(img_path)\n",
        "else:\n",
        "    print(\"Too many missing labels  we cant drop the images, consider alternative strategy.\")\n",
        "\n",
        "# Step 5: Final count check\n",
        "image_files = sorted(os.listdir(image_folder))\n",
        "label_files = sorted(os.listdir(label_folder))\n",
        "print(f\" Final image count: {len(image_files)}\")\n",
        "print(f\" Final label count: {len(label_files)}\")\n"
      ],
      "metadata": {
        "colab": {
          "base_uri": "https://localhost:8080/"
        },
        "id": "hV5xXCveLAnm",
        "outputId": "25f14d75-758a-406d-feee-995cecabc365"
      },
      "execution_count": 26,
      "outputs": [
        {
          "output_type": "stream",
          "name": "stdout",
          "text": [
            "🧼 MISSING LABEL CLEANUP\n",
            "Total images: 893\n",
            "Missing labels: 15\n",
            "Missing %: 1.68%\n",
            "🗑️ Removing unmatched images...\n",
            "✅ Final image count: 878\n",
            "✅ Final label count: 878\n"
          ]
        }
      ]
    },
    {
      "cell_type": "code",
      "source": [
        "import matplotlib.pyplot as plt\n",
        "\n",
        "\n",
        "from collections import Counter\n",
        "label_folder = '/content/ML_project/data/labels'\n",
        "label_counts = Counter()\n",
        "\n",
        "for file in os.listdir(label_folder):\n",
        "    with open(os.path.join(label_folder, file), 'r') as f:\n",
        "        line = f.readline().strip()\n",
        "        if line:\n",
        "            label = int(line.split()[0])\n",
        "            label_counts[label] += 1\n",
        "\n",
        "# Plot\n",
        "labels = ['No Tumor (0)', 'Tumor (1)']\n",
        "counts = [label_counts[0], label_counts[1]]\n",
        "\n",
        "plt.figure(figsize=(6, 4))\n",
        "plt.bar(labels, counts)\n",
        "plt.title(\" Class Distribution: Tumor vs No Tumor\")\n",
        "plt.ylabel(\"Number of Samples\")\n",
        "plt.xlabel(\"Class\")\n",
        "plt.grid(axis='y')\n",
        "plt.savefig('/content/ML_project/outputs/class_distribution.png')\n",
        "\n",
        "plt.show()\n",
        "if(abs(label_counts[0]-label_counts[1])<100):\n",
        " print()\n",
        " print('Data is balanced')\n",
        "else:\n",
        "  print()\n",
        "  print(\"Data is imbalanced\")"
      ],
      "metadata": {
        "colab": {
          "base_uri": "https://localhost:8080/",
          "height": 445
        },
        "id": "6c3ikNUzNXrJ",
        "outputId": "d39d3783-b965-44db-c0a7-b967e0f24098"
      },
      "execution_count": 33,
      "outputs": [
        {
          "output_type": "display_data",
          "data": {
            "text/plain": [
              "<Figure size 600x400 with 1 Axes>"
            ],
            "image/png": "[encoded data removed]"
          },
          "metadata": {}
        },
        {
          "output_type": "stream",
          "name": "stdout",
          "text": [
            "\n",
            "Data is balanced\n"
          ]
        }
      ]
    },
    {
      "cell_type": "code",
      "source": [
        "%cd /content/ML_project\n"
      ],
      "metadata": {
        "colab": {
          "base_uri": "https://localhost:8080/"
        },
        "id": "U81Dqg7HQWvJ",
        "outputId": "e552c50c-3426-4764-9f66-9833216d8d28"
      },
      "execution_count": 7,
      "outputs": [
        {
          "output_type": "stream",
          "name": "stdout",
          "text": [
            "/content/ML_project\n"
          ]
        }
      ]
    },
    {
      "cell_type": "code",
      "source": [
        "!git add notebooks/preprocessing.ipynb outputs/class_distribution.png\n"
      ],
      "metadata": {
        "colab": {
          "base_uri": "https://localhost:8080/"
        },
        "id": "T68ddaRgQY7N",
        "outputId": "3cd476fb-4ad6-4e59-92d5-c7493ea04d1b"
      },
      "execution_count": 8,
      "outputs": [
        {
          "output_type": "stream",
          "name": "stdout",
          "text": [
            "fatal: pathspec 'notebooks/preprocessing.ipynb' did not match any files\n"
          ]
        }
      ]
    },
    {
      "cell_type": "code",
      "source": [
        "!find /content -name \"preprocessing.ipynb\"\n"
      ],
      "metadata": {
        "id": "KVYbOGRfWKTr"
      },
      "execution_count": 14,
      "outputs": []
    },
    {
      "cell_type": "code",
      "source": [
        "!git config --global user.name \"hala daher\"\n",
        "!git config --global user.email \"haladaher5555@gmail.com\"\n"
      ],
      "metadata": {
        "id": "T2PjYTo4QbxO"
      },
      "execution_count": 38,
      "outputs": []
    },
    {
      "cell_type": "code",
      "source": [
        "!git add notebooks/preprocessing.ipynb outputs/class_distribution.png\n",
        "!git commit -m \"Add preprocessing notebook handled missing labels and checked if data is imbalanced and added the class distribution plot\"\n",
        "!git push\n"
      ],
      "metadata": {
        "colab": {
          "base_uri": "https://localhost:8080/"
        },
        "id": "xJl9CVELQyBO",
        "outputId": "6070b5d4-1534-4b3c-f4bf-c0ad410edafb"
      },
      "execution_count": 39,
      "outputs": [
        {
          "output_type": "stream",
          "name": "stdout",
          "text": [
            "[main 4c5fd76] Add preprocessing notebook handled missing labels and checked if data is imbalanced and added the class distribution plot\n",
            " 2 files changed, 1 insertion(+)\n",
            " create mode 100644 notebooks/preprocessing.ipynb\n",
            " create mode 100644 outputs/class_distribution.png\n",
            "fatal: could not read Username for 'https://github.com': No such device or address\n"
          ]
        }
      ]
    },
    {
      "cell_type": "code",
      "source": [
        "!git push https://haladaher2024@github.com/haladaher2024/ML_project.git\n"
      ],
      "metadata": {
        "colab": {
          "base_uri": "https://localhost:8080/"
        },
        "id": "sVcVIihpTOrh",
        "outputId": "29d6103b-05ae-45c6-e054-87ada3e4720f"
      },
      "execution_count": 2,
      "outputs": [
        {
          "output_type": "stream",
          "name": "stdout",
          "text": [
            "fatal: not a git repository (or any of the parent directories): .git\n"
          ]
        }
      ]
    }
  ],
  "metadata": {
    "accelerator": "GPU",
    "colab": {
      "gpuType": "T4",
      "provenance": [],
      "authorship_tag": "ABX9TyMbAqNWXwgkuv+iqAAIRmdg",
      "include_colab_link": true
    },
    "kernelspec": {
      "display_name": "Python 3",
      "name": "python3"
    },
    "language_info": {
      "name": "python"
    }
  },
  "nbformat": 4,
  "nbformat_minor": 0
}